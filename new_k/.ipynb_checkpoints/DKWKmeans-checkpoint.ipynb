{
 "cells": [
  {
   "cell_type": "code",
   "execution_count": 1,
   "metadata": {},
   "outputs": [
    {
     "data": {
      "text/plain": [
       "<Figure size 640x480 with 1 Axes>"
      ]
     },
     "metadata": {},
     "output_type": "display_data"
    },
    {
     "name": "stdout",
     "output_type": "stream",
     "text": [
      "Randomly chosen centroids\n",
      "[[ 62.201717 100.08433 ]\n",
      " [ 44.04138   43.210278]\n",
      " [ 21.396906  89.29847 ]\n",
      " [ 35.16185  113.471634]\n",
      " [ 34.3944    19.771576]]\n"
     ]
    },
    {
     "data": {
      "text/plain": [
       "<Figure size 640x480 with 1 Axes>"
      ]
     },
     "metadata": {},
     "output_type": "display_data"
    },
    {
     "data": {
      "text/plain": [
       "<Figure size 640x480 with 1 Axes>"
      ]
     },
     "metadata": {},
     "output_type": "display_data"
    }
   ],
   "source": [
    "import numpy as np\n",
    "import pandas as pd\n",
    "from copy import deepcopy\n",
    "from matplotlib import pyplot as plt\n",
    "%matplotlib inline\n",
    "\n",
    "\n",
    "\n",
    "#Plots:\n",
    "#1. All points\n",
    "#2. All points and randomly chosen centroids\n",
    "#3. All points but clustered, as visible by colors\n",
    "\n",
    "X = pd.read_csv(\"Mall_Customers.csv\")\n",
    "\n",
    "def euclidean(a, b, ax):\n",
    "    dis = np.linalg.norm(a - b, axis=ax)\n",
    "    return dis\n",
    "\n",
    "category = 'Age' #This can be anything :v Basically the x val\n",
    "x1 = X[category].values\n",
    "x2 = X['Annual Income (k$)'].values #this is target so doesnt change :v Basically y val\n",
    "plt.scatter(x1, x2, s=7)\n",
    "plt.show()\n",
    "\n",
    "k = 5 #This can be anything too. Youre supposed to use elbow method -->\n",
    "#--> to find it. but thats beyond the scope of this problem :v\n",
    "# also if you make this more than 5 add more colors to variable 'colors'\n",
    "\n",
    "C1 = np.random.uniform(np.min(x1), np.max(x1), size=k)\n",
    "C2 = np.random.uniform(np.min(x2), np.max(x2), size=k)\n",
    "C = np.array(list(zip(C1, C2)), dtype=np.float32)\n",
    "\n",
    "print(\"Randomly chosen centroids\\n\"+str(C))\n",
    "plt.scatter(x1, x2, s=7)\n",
    "plt.scatter(C1, C2, marker='P', c='k')\n",
    "plt.show()\n",
    "\n",
    "C_prev = np.zeros(C.shape)\n",
    "labels = np.zeros(len(X)) #cluster labels\n",
    "E = euclidean(C, C_prev, None)\n",
    "\n",
    "while E != 0:\n",
    "    for i in range(len(X)):\n",
    "        distances = euclidean((x1[i],x2[i]), C, 1)\n",
    "        cluster = np.argmin(distances)\n",
    "        labels[i] = cluster\n",
    "    C_prev = deepcopy(C)\n",
    "    for i in range(k):\n",
    "        points = []\n",
    "        for j in range(len(X)):\n",
    "            if labels[j] == i:\n",
    "                points.append((x1[j],x2[j]))\n",
    "        points = np.array(points)\n",
    "        C[i] = np.mean(points, axis=0)\n",
    "    E = euclidean(C, C_prev, None)\n",
    "\n",
    "colors = ['y', 'c', 'm', 'r', 'g', 'b']\n",
    "for i in range(k):\n",
    "    points = []\n",
    "    for j in range(len(X)):\n",
    "        if labels[j] == i:\n",
    "            points.append((x1[j],x2[j]))\n",
    "    points = np.array(points)\n",
    "    plt.scatter(points[:, 0], points[:, 1], s=7, c=colors[i])\n",
    "plt.scatter(C[:, 0], C[:, 1], marker='P', c='k')\n",
    "plt.show()"
   ]
  },
  {
   "cell_type": "code",
   "execution_count": null,
   "metadata": {},
   "outputs": [],
   "source": []
  }
 ],
 "metadata": {
  "kernelspec": {
   "display_name": "Python 3",
   "language": "python",
   "name": "python3"
  },
  "language_info": {
   "codemirror_mode": {
    "name": "ipython",
    "version": 3
   },
   "file_extension": ".py",
   "mimetype": "text/x-python",
   "name": "python",
   "nbconvert_exporter": "python",
   "pygments_lexer": "ipython3",
   "version": "3.7.2"
  }
 },
 "nbformat": 4,
 "nbformat_minor": 2
}
