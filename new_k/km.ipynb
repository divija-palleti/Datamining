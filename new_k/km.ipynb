{
 "cells": [
  {
   "cell_type": "code",
   "execution_count": 2,
   "metadata": {},
   "outputs": [
    {
     "name": "stdout",
     "output_type": "stream",
     "text": [
      "            Gender  Age  Annual Income (k$)  Spending Score (1-100)\n",
      "CustomerID                                                         \n",
      "1                1   19                  15                      39\n",
      "2                1   21                  15                      81\n",
      "3                0   20                  16                       6\n",
      "4                0   23                  16                      77\n",
      "5                0   31                  17                      40\n",
      "(200, 4)\n",
      "44.69639707734947\n",
      "inf\n",
      "inf\n",
      "inf\n",
      "50.25886394307444\n",
      "83.92580587674775\n",
      "30.619350397416834\n",
      "6.69583396103904\n",
      "4.3976098133095824\n",
      "6.178196204988338\n",
      "44.57936883997614\n",
      "8.794950168861954\n",
      "13.158812756998946\n",
      "1.4744099562113835\n",
      "7.422905669346283\n",
      "1.8111831417543096\n",
      "Final Centeroids:\n",
      "{0: array([ 0.39130435, 45.2173913 , 26.30434783, 20.91304348]), 1: array([ 0.39130435, 25.52173913, 26.30434783, 78.56521739]), 2: array([ 0.52777778, 40.66666667, 87.75      , 17.58333333]), 3: array([ 0.46153846, 32.69230769, 86.53846154, 82.12820513]), 4: array([ 0.41772152, 43.08860759, 55.29113924, 49.56962025])}\n"
     ]
    },
    {
     "name": "stderr",
     "output_type": "stream",
     "text": [
      "/Users/divija/virtualenvs/jupyter/lib/python3.7/site-packages/ipykernel_launcher.py:42: RuntimeWarning: divide by zero encountered in true_divide\n",
      "/Users/divija/virtualenvs/jupyter/lib/python3.7/site-packages/ipykernel_launcher.py:43: RuntimeWarning: divide by zero encountered in true_divide\n"
     ]
    }
   ],
   "source": [
    "import matplotlib.pyplot as plt\n",
    "from matplotlib import style\n",
    "import numpy as np\n",
    "# from sklearn import preprocessing\n",
    "import pandas as pd\n",
    "\n",
    "\n",
    "class K_Means:\n",
    "    def __init__(self, k=5, tol=0.001, max_iter=3000):\n",
    "        self.k = k\n",
    "        self.tol = tol\n",
    "        self.max_iter = max_iter\n",
    "\n",
    "    def fit(self,data):\n",
    "\n",
    "        self.centroids = {}\n",
    "\n",
    "        for i in range(self.k):\n",
    "            self.centroids[i] = data[i]\n",
    "\n",
    "        for i in range(self.max_iter):\n",
    "            self.classifications = {}\n",
    "\n",
    "            for i in range(self.k):\n",
    "                self.classifications[i] = []\n",
    "\n",
    "            for featureset in X:\n",
    "                distances = [np.linalg.norm(featureset-self.centroids[centroid]) for centroid in self.centroids]\n",
    "                classification = distances.index(min(distances))\n",
    "                self.classifications[classification].append(featureset)\n",
    "\n",
    "            prev_centroids = dict(self.centroids)\n",
    "\n",
    "            for classification in self.classifications:\n",
    "                self.centroids[classification] = np.average(self.classifications[classification],axis=0)\n",
    "\n",
    "            optimized = True\n",
    "            for c in self.centroids:\n",
    "                # print(\"lol\")\n",
    "                original_centroid = prev_centroids[c]\n",
    "                current_centroid = self.centroids[c]\n",
    "                if np.sum((current_centroid-original_centroid)/original_centroid*100.0) > self.tol:\n",
    "                    print(np.sum((current_centroid-original_centroid)/original_centroid*100.0))\n",
    "                    optimized = False\n",
    "\n",
    "            if optimized:\n",
    "                print('Final Centeroids:')\n",
    "                print(self.centroids)\n",
    "                break\n",
    "\n",
    "\n",
    "\n",
    "df = pd.read_csv('Mall_Customers.csv', index_col=0, encoding=\"utf-8-sig\")\n",
    "\n",
    "df.fillna(0,inplace=True)\n",
    "\n",
    "df.loc[df['Gender'] == 'Male', 'Gender'] = 1\n",
    "df.loc[df['Gender'] == 'Female', 'Gender'] = 0\n",
    "\n",
    "print(df.head())\n",
    "\n",
    "\n",
    "X = np.array(df.astype(float))\n",
    "print(X.shape)\n",
    "# print(X.shape)\n",
    "clf = K_Means()\n",
    "clf.fit(X)"
   ]
  },
  {
   "cell_type": "code",
   "execution_count": null,
   "metadata": {},
   "outputs": [],
   "source": []
  }
 ],
 "metadata": {
  "kernelspec": {
   "display_name": "Python 3",
   "language": "python",
   "name": "python3"
  },
  "language_info": {
   "codemirror_mode": {
    "name": "ipython",
    "version": 3
   },
   "file_extension": ".py",
   "mimetype": "text/x-python",
   "name": "python",
   "nbconvert_exporter": "python",
   "pygments_lexer": "ipython3",
   "version": "3.7.2"
  }
 },
 "nbformat": 4,
 "nbformat_minor": 2
}
