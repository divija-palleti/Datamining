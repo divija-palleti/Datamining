{
 "cells": [
  {
   "cell_type": "code",
   "execution_count": 131,
   "metadata": {},
   "outputs": [],
   "source": [
    "import matplotlib.pyplot as plt\n",
    "from matplotlib import style\n",
    "import numpy as np\n",
    "# from sklearn import preprocessing\n",
    "import pandas as pd"
   ]
  },
  {
   "cell_type": "code",
   "execution_count": 132,
   "metadata": {},
   "outputs": [],
   "source": [
    "df = pd.read_csv('Iris.csv', index_col=0, encoding=\"utf-8-sig\")\n",
    "\n"
   ]
  },
  {
   "cell_type": "code",
   "execution_count": 133,
   "metadata": {},
   "outputs": [
    {
     "name": "stdout",
     "output_type": "stream",
     "text": [
      "['Iris-setosa' 'Iris-setosa' 'Iris-setosa' 'Iris-setosa' 'Iris-setosa'\n",
      " 'Iris-setosa' 'Iris-setosa' 'Iris-setosa' 'Iris-setosa' 'Iris-setosa'\n",
      " 'Iris-setosa' 'Iris-setosa' 'Iris-setosa' 'Iris-setosa' 'Iris-setosa'\n",
      " 'Iris-setosa' 'Iris-setosa' 'Iris-setosa' 'Iris-setosa' 'Iris-setosa'\n",
      " 'Iris-setosa' 'Iris-setosa' 'Iris-setosa' 'Iris-setosa' 'Iris-setosa'\n",
      " 'Iris-setosa' 'Iris-setosa' 'Iris-setosa' 'Iris-setosa' 'Iris-setosa'\n",
      " 'Iris-setosa' 'Iris-setosa' 'Iris-setosa' 'Iris-setosa' 'Iris-setosa'\n",
      " 'Iris-setosa' 'Iris-setosa' 'Iris-setosa' 'Iris-setosa' 'Iris-setosa'\n",
      " 'Iris-setosa' 'Iris-setosa' 'Iris-setosa' 'Iris-setosa' 'Iris-setosa'\n",
      " 'Iris-setosa' 'Iris-setosa' 'Iris-setosa' 'Iris-setosa' 'Iris-setosa'\n",
      " 'Iris-versicolor' 'Iris-versicolor' 'Iris-versicolor' 'Iris-versicolor'\n",
      " 'Iris-versicolor' 'Iris-versicolor' 'Iris-versicolor' 'Iris-versicolor'\n",
      " 'Iris-versicolor' 'Iris-versicolor' 'Iris-versicolor' 'Iris-versicolor'\n",
      " 'Iris-versicolor' 'Iris-versicolor' 'Iris-versicolor' 'Iris-versicolor'\n",
      " 'Iris-versicolor' 'Iris-versicolor' 'Iris-versicolor' 'Iris-versicolor'\n",
      " 'Iris-versicolor' 'Iris-versicolor' 'Iris-versicolor' 'Iris-versicolor'\n",
      " 'Iris-versicolor' 'Iris-versicolor' 'Iris-versicolor' 'Iris-versicolor'\n",
      " 'Iris-versicolor' 'Iris-versicolor' 'Iris-versicolor' 'Iris-versicolor'\n",
      " 'Iris-versicolor' 'Iris-versicolor' 'Iris-versicolor' 'Iris-versicolor'\n",
      " 'Iris-versicolor' 'Iris-versicolor' 'Iris-versicolor' 'Iris-versicolor'\n",
      " 'Iris-versicolor' 'Iris-versicolor' 'Iris-versicolor' 'Iris-versicolor'\n",
      " 'Iris-versicolor' 'Iris-versicolor' 'Iris-versicolor' 'Iris-versicolor'\n",
      " 'Iris-versicolor' 'Iris-versicolor']\n",
      "[-1 -1 -1 -1 -1 -1 -1 -1 -1 -1 -1 -1 -1 -1 -1 -1 -1 -1 -1 -1 -1 -1 -1 -1\n",
      " -1 -1 -1 -1 -1 -1 -1 -1 -1 -1 -1 -1 -1 -1 -1 -1 -1 -1 -1 -1 -1 -1 -1 -1\n",
      " -1 -1  1  1  1  1  1  1  1  1  1  1  1  1  1  1  1  1  1  1  1  1  1  1\n",
      "  1  1  1  1  1  1  1  1  1  1  1  1  1  1  1  1  1  1  1  1  1  1  1  1\n",
      "  1  1  1  1]\n",
      "(100, 2)\n"
     ]
    }
   ],
   "source": [
    "df = pd.read_csv('iris.csv')\n",
    "# df  = df.apply(np.random.permutation)\n",
    "df.head()\n",
    "    \n",
    "\n",
    "y = df.iloc[0:100, 5].values\n",
    "print(y)\n",
    "y = np.where(y == 'Iris-setosa', -1, 1)\n",
    "print(y)\n",
    "X = df.iloc[0:100, [1,3]].values\n",
    "    \n",
    "print(X.shape)"
   ]
  },
  {
   "cell_type": "code",
   "execution_count": 134,
   "metadata": {},
   "outputs": [
    {
     "name": "stdout",
     "output_type": "stream",
     "text": [
      "[0.8 3.4]\n",
      "0 18\n",
      "4.200000000000001\n",
      "[4.200000000000001, 4.4, 4.7, 4.6000000000000005, 4.300000000000001, 3.5999999999999996, 4.700000000000001, 4.2, 4.9, 4.3, 3.8, 4.300000000000001, 4.5, 5.300000000000001, 3.7, 3.5, 4.0, 4.200000000000001, 3.3, 4.1000000000000005, 3.5999999999999996, 4.1000000000000005, 5.1000000000000005, 3.9000000000000004, 4.0, 4.1, 4.1, 4.0, 4.1, 4.4, 4.300000000000001, 3.8, 4.0, 3.8000000000000003, 4.3, 4.5, 3.9000000000000004, 4.3, 5.0, 4.1000000000000005, 4.4, 4.9, 5.0, 4.1, 3.7000000000000006, 4.5, 4.0, 4.700000000000001, 3.9000000000000004, 4.300000000000001, 1.1999999999999993, 0.7999999999999998, 1.1000000000000005, 1.2000000000000002, 0.7999999999999998, 0.5, 0.4999999999999991, 2.5, 0.8999999999999995, 1.6, 2.2, 0.5999999999999996, 0.8999999999999995, 0.29999999999999893, 1.5000000000000004, 1.1999999999999993, 0.6000000000000005, 0.8000000000000007, 0.5999999999999996, 1.2000000000000006]\n",
      "1 acc\n",
      "3.3333333333333335\n"
     ]
    }
   ],
   "source": [
    "\n",
    "M=100\n",
    "a=70*100/100\n",
    "m=int(a)\n",
    "# #training data\n",
    "\n",
    "x_1 = X[:m,:]\n",
    "y_1 = y[:m]\n",
    "\n",
    "# print(x_1)\n",
    "# print(y_1)\n",
    "\n",
    "# #testing data\n",
    "\n",
    "x_2 = X[m:M,:]\n",
    "y_2 = y[m:M]\n",
    "\n",
    "R=2\n",
    "\n",
    "dist=[]\n",
    "len1=[]\n",
    "acc=0\n",
    "\n",
    "# dist=[100,2]\n",
    "# print(_1)\n",
    "for i in range(1):\n",
    "    q=0\n",
    "    w=0\n",
    "    for j in range(70):\n",
    "        \n",
    "        dist.append( np.abs(np.subtract(x_1[j],x_2[i])))\n",
    "        len1.append(np.abs(dist[j][0]+dist[j][1]))\n",
    "        \n",
    "    print(dist[0])\n",
    "    for j in range(70):\n",
    "        if(len1[j] <=2):\n",
    "            if(y_1[j]== -1):\n",
    "                q=q+1\n",
    "                \n",
    "            if(y_1[j]==1):\n",
    "                w=w+1\n",
    "    print(q,w)\n",
    "    \n",
    "    if(q>=w):\n",
    "        if(y_2[i]==-1):\n",
    "            acc=acc+1\n",
    "    else:\n",
    "        if(y_2[i]==1):\n",
    "            acc=acc+1\n",
    "        \n",
    "    print(len1[0])\n",
    "    \n",
    "    \n",
    "        \n",
    "    print(len1)\n",
    "print(acc,\"acc\")\n",
    "print(acc*100/30)"
   ]
  },
  {
   "cell_type": "code",
   "execution_count": null,
   "metadata": {},
   "outputs": [],
   "source": []
  },
  {
   "cell_type": "code",
   "execution_count": null,
   "metadata": {},
   "outputs": [],
   "source": []
  },
  {
   "cell_type": "code",
   "execution_count": null,
   "metadata": {},
   "outputs": [],
   "source": []
  }
 ],
 "metadata": {
  "kernelspec": {
   "display_name": "Python 3",
   "language": "python",
   "name": "python3"
  },
  "language_info": {
   "codemirror_mode": {
    "name": "ipython",
    "version": 3
   },
   "file_extension": ".py",
   "mimetype": "text/x-python",
   "name": "python",
   "nbconvert_exporter": "python",
   "pygments_lexer": "ipython3",
   "version": "3.7.2"
  }
 },
 "nbformat": 4,
 "nbformat_minor": 2
}
