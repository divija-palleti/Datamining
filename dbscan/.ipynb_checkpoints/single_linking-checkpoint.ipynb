{
 "cells": [
  {
   "cell_type": "code",
   "execution_count": 39,
   "metadata": {},
   "outputs": [],
   "source": [
    "import os\n",
    "import numpy as np"
   ]
  },
  {
   "cell_type": "code",
   "execution_count": 45,
   "metadata": {},
   "outputs": [],
   "source": [
    "INF = 1000\n",
    "\n",
    "n = 6\n",
    "dist = [[0 ,0.71, 5.66, 3.61, 4.24, 3.20], [0.71, 0 ,4.95, 2.92, 3.54, 2.50], [5.66, 4.95, 0 ,2.24 ,1.41 ,2.50],\n",
    "        [3.61, 2.92, 2.24, 0, 1.0 ,0.5], [4.24, 3.54, 1.41, 1.0, 0, 1.12], [3.20, 2.50, 2.50, 0.5, 1.12, 0]]\n",
    "\n",
    "label = dict()\n",
    "label[0] = 'A'\n",
    "label[1] = 'B'\n",
    "label[2] = 'C'\n",
    "label[3] = 'D'\n",
    "label[4] = 'E'\n",
    "label[5] = 'F'\n",
    "dist = np.array(dist)\n"
   ]
  },
  {
   "cell_type": "code",
   "execution_count": 46,
   "metadata": {},
   "outputs": [
    {
     "name": "stdout",
     "output_type": "stream",
     "text": [
      "D - F\n",
      "A - B\n",
      "DF - E\n",
      "C - DFE\n",
      "AB - CDFE\n"
     ]
    }
   ],
   "source": [
    "while True:\n",
    "    \n",
    "    val = np.min(dist[dist!=0])\n",
    "    if val == INF:\n",
    "        break\n",
    "    i, j = np.where(dist == val)[0]\n",
    "    print(label[i] + ' - ' + label[j])\n",
    "    label[i] += label[j]\n",
    "    \n",
    "    dist[i,:] = np.minimum(dist[i,:], dist[j,:])\n",
    "    dist[:,i] = np.minimum(dist[:,i], dist[:,j])\n",
    "    dist[i,i] = 0\n",
    "    dist[j,:] = INF\n",
    "    dist[:,j] = INF"
   ]
  }
 ],
 "metadata": {
  "kernelspec": {
   "display_name": "Python 3",
   "language": "python",
   "name": "python3"
  },
  "language_info": {
   "codemirror_mode": {
    "name": "ipython",
    "version": 3
   },
   "file_extension": ".py",
   "mimetype": "text/x-python",
   "name": "python",
   "nbconvert_exporter": "python",
   "pygments_lexer": "ipython3",
   "version": "3.6.5"
  },
  "varInspector": {
   "cols": {
    "lenName": 16,
    "lenType": 16,
    "lenVar": 40
   },
   "kernels_config": {
    "python": {
     "delete_cmd_postfix": "",
     "delete_cmd_prefix": "del ",
     "library": "var_list.py",
     "varRefreshCmd": "print(var_dic_list())"
    },
    "r": {
     "delete_cmd_postfix": ") ",
     "delete_cmd_prefix": "rm(",
     "library": "var_list.r",
     "varRefreshCmd": "cat(var_dic_list()) "
    }
   },
   "types_to_exclude": [
    "module",
    "function",
    "builtin_function_or_method",
    "instance",
    "_Feature"
   ],
   "window_display": false
  }
 },
 "nbformat": 4,
 "nbformat_minor": 2
}
