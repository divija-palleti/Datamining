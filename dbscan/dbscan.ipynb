{
 "cells": [
  {
   "cell_type": "code",
   "execution_count": 1,
   "metadata": {},
   "outputs": [],
   "source": [
    "import os\n",
    "import pandas as pd\n",
    "import numpy as np"
   ]
  },
  {
   "cell_type": "code",
   "execution_count": 2,
   "metadata": {},
   "outputs": [],
   "source": [
    "def read_dataset():\n",
    "    global data\n",
    "    df = pd.read_excel('data1.xlsx')\n",
    "    df = df.drop_duplicates()\n",
    "    data = df.values\n",
    "    df = df.drop(['label'], axis = 1)\n",
    "    df = df.values\n",
    "    return df"
   ]
  },
  {
   "cell_type": "code",
   "execution_count": 3,
   "metadata": {},
   "outputs": [],
   "source": [
    "def root(x, idx):\n",
    "    while x!=idx[x]:\n",
    "        idx[x] = idx[idx[x]]\n",
    "        x = idx[x]\n",
    "    return x "
   ]
  },
  {
   "cell_type": "code",
   "execution_count": 4,
   "metadata": {},
   "outputs": [
    {
     "name": "stdout",
     "output_type": "stream",
     "text": [
      "[13 18]\n",
      "(2,)\n"
     ]
    }
   ],
   "source": [
    "idx = []\n",
    "eps = 1\n",
    "minPoints = 10\n",
    "\n",
    "dset = read_dataset()\n",
    "\n",
    "[idx.append(k) for k in range(0, dset.shape[0])]\n",
    "\n",
    "for i in range(dset.shape[0]):\n",
    "    \n",
    "    cnt = 0\n",
    "    \n",
    "    for j in range(dset.shape[0]):\n",
    "        if np.linalg.norm(dset[i] - dset[j]) <= eps:\n",
    "            cnt += 1\n",
    "    \n",
    "    if cnt >= minPoints:\n",
    "        for j in range(dset.shape[0]):\n",
    "            if np.linalg.norm(dset[i] - dset[j]) <= eps:\n",
    "                idx[j] = root(i, idx)\n",
    "\n",
    "for k in range(dset.shape[0]):\n",
    "    idx[k] = root(k, idx)\n",
    "print(np.unique(idx))\n",
    "print((np.unique(idx)).shape)"
   ]
  },
  {
   "cell_type": "code",
   "execution_count": 5,
   "metadata": {},
   "outputs": [
    {
     "data": {
      "text/plain": [
       "[<matplotlib.lines.Line2D at 0x1105e50b8>]"
      ]
     },
     "execution_count": 5,
     "metadata": {},
     "output_type": "execute_result"
    }
   ],
   "source": [
    "one = []\n",
    "two = []\n",
    "for i in range(dset.shape[0]):\n",
    "    if idx[i] == 13:\n",
    "        one.append(dset[i])\n",
    "    else:\n",
    "        two.append(dset[i])\n",
    "\n",
    "one = np.array(one)\n",
    "two = np.array(two)\n",
    "import matplotlib.pyplot as plt\n",
    "plt.plot(one[:,0], one[:,1], 'ro')\n",
    "plt.plot(two[:,0], two[:,1], 'bo')"
   ]
  },
  {
   "cell_type": "code",
   "execution_count": 6,
   "metadata": {},
   "outputs": [
    {
     "data": {
      "text/plain": [
       "[<matplotlib.lines.Line2D at 0x1132aff60>]"
      ]
     },
     "execution_count": 6,
     "metadata": {},
     "output_type": "execute_result"
    },
    {
     "data": {
      "image/png": "[encoded data removed]",
      "text/plain": [
       "<Figure size 432x288 with 1 Axes>"
      ]
     },
     "metadata": {
      "needs_background": "light"
     },
     "output_type": "display_data"
    }
   ],
   "source": [
    "one = []\n",
    "two = []\n",
    "\n",
    "for i in range(data.shape[0]):\n",
    "    if data[i][2] == -1:\n",
    "        one.append(dset[i])\n",
    "    else :\n",
    "        two.append(dset[i])\n",
    "\n",
    "one = np.array(one)\n",
    "two = np.array(two)\n",
    "import matplotlib.pyplot as plt\n",
    "plt.plot(one[:,0], one[:,1], 'ro')\n",
    "plt.plot(two[:,0], two[:,1], 'bo')"
   ]
  },
  {
   "cell_type": "code",
   "execution_count": null,
   "metadata": {},
   "outputs": [],
   "source": []
  },
  {
   "cell_type": "code",
   "execution_count": null,
   "metadata": {},
   "outputs": [],
   "source": []
  },
  {
   "cell_type": "code",
   "execution_count": null,
   "metadata": {},
   "outputs": [],
   "source": []
  },
  {
   "cell_type": "code",
   "execution_count": null,
   "metadata": {},
   "outputs": [],
   "source": []
  }
 ],
 "metadata": {
  "kernelspec": {
   "display_name": "Python 3",
   "language": "python",
   "name": "python3"
  },
  "language_info": {
   "codemirror_mode": {
    "name": "ipython",
    "version": 3
   },
   "file_extension": ".py",
   "mimetype": "text/x-python",
   "name": "python",
   "nbconvert_exporter": "python",
   "pygments_lexer": "ipython3",
   "version": "3.7.2"
  },
  "varInspector": {
   "cols": {
    "lenName": 16,
    "lenType": 16,
    "lenVar": 40
   },
   "kernels_config": {
    "python": {
     "delete_cmd_postfix": "",
     "delete_cmd_prefix": "del ",
     "library": "var_list.py",
     "varRefreshCmd": "print(var_dic_list())"
    },
    "r": {
     "delete_cmd_postfix": ") ",
     "delete_cmd_prefix": "rm(",
     "library": "var_list.r",
     "varRefreshCmd": "cat(var_dic_list()) "
    }
   },
   "types_to_exclude": [
    "module",
    "function",
    "builtin_function_or_method",
    "instance",
    "_Feature"
   ],
   "window_display": false
  }
 },
 "nbformat": 4,
 "nbformat_minor": 2
}
